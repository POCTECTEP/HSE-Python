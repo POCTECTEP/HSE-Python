{
 "cells": [
  {
   "cell_type": "markdown",
   "id": "de15e635",
   "metadata": {},
   "source": [
    "Выполнил студент группы ПСАПР-25-2 Оберемок Артём"
   ]
  },
  {
   "cell_type": "markdown",
   "id": "a11d4528",
   "metadata": {},
   "source": []
  },
  {
   "cell_type": "markdown",
   "id": "27180bb8",
   "metadata": {},
   "source": [
    "    Задание 1"
   ]
  },
  {
   "cell_type": "markdown",
   "id": "6aad6ef3",
   "metadata": {},
   "source": [
    "Примеры работы программы"
   ]
  },
  {
   "cell_type": "code",
   "execution_count": 14,
   "id": "46fb7539",
   "metadata": {},
   "outputs": [
    {
     "name": "stdout",
     "output_type": "stream",
     "text": [
      "es\n"
     ]
    }
   ],
   "source": [
    "word = \"&apos;test&apos;\"\n",
    "\n",
    "word = word.replace('&apos;','')\n",
    "l = len(word)\n",
    "if l%2 == 0:\n",
    "    print(word[l//2-1]+word[l//2])\n",
    "if l%2 != 0:\n",
    "    print(word[l//2])"
   ]
  },
  {
   "cell_type": "code",
   "execution_count": 15,
   "id": "1a283348",
   "metadata": {},
   "outputs": [
    {
     "name": "stdout",
     "output_type": "stream",
     "text": [
      "t\n"
     ]
    }
   ],
   "source": [
    "word = \"&apos;testing&apos;\"\n",
    "\n",
    "word = word.replace('&apos;','')\n",
    "l = len(word)\n",
    "if l%2 == 0:\n",
    "    print(word[l//2-1]+word[l//2])\n",
    "if l%2 != 0:\n",
    "    print(word[l//2])"
   ]
  },
  {
   "cell_type": "markdown",
   "id": "e3e52034",
   "metadata": {},
   "source": [
    "Код, который принимает любое слово"
   ]
  },
  {
   "cell_type": "code",
   "execution_count": null,
   "id": "54da61ea",
   "metadata": {},
   "outputs": [],
   "source": [
    "word = input()\n",
    "\n",
    "word = word.replace('&apos;','')\n",
    "l = len(word)\n",
    "if l%2 == 0:\n",
    "    print(word[l//2-1]+word[l//2])\n",
    "if l%2 != 0:\n",
    "    print(word[l//2])"
   ]
  },
  {
   "cell_type": "markdown",
   "id": "c24efb62",
   "metadata": {},
   "source": []
  },
  {
   "cell_type": "markdown",
   "id": "367f7af4",
   "metadata": {},
   "source": [
    "    Задание 2"
   ]
  },
  {
   "cell_type": "markdown",
   "id": "04a53864",
   "metadata": {},
   "source": [
    "Примеры работы программы"
   ]
  },
  {
   "cell_type": "code",
   "execution_count": null,
   "id": "979df167",
   "metadata": {},
   "outputs": [
    {
     "name": "stdout",
     "output_type": "stream",
     "text": [
      "Идеальные пары:\n",
      "Alex и Emma\n",
      "Arthur и Kate\n",
      "John и Kira\n",
      "Peter и Liza\n",
      "Richard и Trisha\n"
     ]
    }
   ],
   "source": [
    "\n",
    "boys = ['&apos;Peter&apos;','&apos;Alex&apos;','&apos;John&apos;','&apos;Arthur&apos;','&apos;Richard&apos;']\n",
    "girls = ['&apos;Kate&apos;','&apos;Liza&apos;','&apos;Kira&apos;','&apos;Emma&apos;','&apos;Trisha&apos;']\n",
    "\n",
    "boys.sort(), girls.sort()\n",
    "         \n",
    "if len(girls)!=len(boys):\n",
    "    print('Внимание, кто-то может остаться без пары.')\n",
    "\n",
    "else:\n",
    "    print('Идеальные пары:')\n",
    "    for i in range(len(boys)):\n",
    "        print(boys[i].replace('&apos;',''),'и',girls[i].replace('&apos;',''))"
   ]
  },
  {
   "cell_type": "code",
   "execution_count": null,
   "id": "77e8d733",
   "metadata": {},
   "outputs": [
    {
     "name": "stdout",
     "output_type": "stream",
     "text": [
      "Внимание, кто-то может остаться без пары.\n"
     ]
    }
   ],
   "source": [
    "boys = ['&apos;Peter&apos;','&apos;Alex&apos;','&apos;John&apos;','&apos;Arthur&apos;','&apos;Richard&apos;','&apos;Michael&apos;']\n",
    "girls = ['&apos;Kate&apos;','&apos;Liza&apos;','&apos;Kira&apos;','&apos;Emma&apos;','&apos;Trisha&apos;']\n",
    "\n",
    "boys.sort(), girls.sort()\n",
    "         \n",
    "if len(girls)!=len(boys):\n",
    "    print('Внимание, кто-то может остаться без пары.')\n",
    "\n",
    "else:\n",
    "    print('Идеальные пары:')\n",
    "    for i in range(len(boys)):\n",
    "        print(boys[i].replace('&apos;',''),'и',girls[i].replace('&apos;',''))"
   ]
  },
  {
   "cell_type": "code",
   "execution_count": null,
   "id": "480ba05b",
   "metadata": {},
   "outputs": [
    {
     "name": "stdout",
     "output_type": "stream",
     "text": [
      "Идеальные пары:\n",
      "Alex и Emma\n",
      "Arthur и Kate\n",
      "John и Kira\n",
      "Peter и Liza\n",
      "Richard и Trisha\n"
     ]
    }
   ],
   "source": [
    "boys = ['Peter', 'Alex', 'John', 'Arthur', 'Richard']\n",
    "girls = ['Kate', 'Liza', 'Kira', 'Emma', 'Trisha']\n",
    "\n",
    "boys.sort(), girls.sort()\n",
    "         \n",
    "if len(girls)!=len(boys):\n",
    "    print('Внимание, кто-то может остаться без пары.')\n",
    "\n",
    "else:\n",
    "    print('Идеальные пары:')\n",
    "    for i in range(len(boys)):\n",
    "        print(boys[i].replace('&apos;',''),'и',girls[i].replace('&apos;',''))"
   ]
  },
  {
   "cell_type": "markdown",
   "id": "437549c2",
   "metadata": {},
   "source": [
    "Код с пустыми списками"
   ]
  },
  {
   "cell_type": "code",
   "execution_count": null,
   "id": "2e85a026",
   "metadata": {},
   "outputs": [],
   "source": [
    "boys = []\n",
    "girls = []\n",
    "\n",
    "boys.sort(), girls.sort()\n",
    "         \n",
    "if len(girls)!=len(boys):\n",
    "    print('Внимание, кто-то может остаться без пары.')\n",
    "\n",
    "else:\n",
    "    print('Идеальные пары:')\n",
    "    for i in range(len(boys)):\n",
    "        print(boys[i].replace('&apos;',''),'и',girls[i].replace('&apos;',''))"
   ]
  }
 ],
 "metadata": {
  "kernelspec": {
   "display_name": "Python 3",
   "language": "python",
   "name": "python3"
  },
  "language_info": {
   "codemirror_mode": {
    "name": "ipython",
    "version": 3
   },
   "file_extension": ".py",
   "mimetype": "text/x-python",
   "name": "python",
   "nbconvert_exporter": "python",
   "pygments_lexer": "ipython3",
   "version": "3.12.1"
  }
 },
 "nbformat": 4,
 "nbformat_minor": 5
}
