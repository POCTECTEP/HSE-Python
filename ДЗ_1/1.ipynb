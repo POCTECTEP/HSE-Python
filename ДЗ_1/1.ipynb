{
 "cells": [
  {
   "cell_type": "markdown",
   "id": "c565c18d",
   "metadata": {},
   "source": [
    "Задание 1"
   ]
  },
  {
   "cell_type": "code",
   "execution_count": null,
   "id": "131fac64",
   "metadata": {},
   "outputs": [],
   "source": [
    "year = int(input())\n",
    "print('Високосный год' if (year%400 == 0 or year%4 == 0 and year%100 != 0) else 'Обычный год')"
   ]
  },
  {
   "cell_type": "markdown",
   "id": "53eb6ba8",
   "metadata": {},
   "source": [
    "Задание 2"
   ]
  },
  {
   "cell_type": "code",
   "execution_count": null,
   "id": "39aef91a",
   "metadata": {},
   "outputs": [],
   "source": [
    "N = input()\n",
    "print('Счастливый билет' if (sum(map(int, str(N[3:]))) == sum(map(int, str(N[:3])))) else 'Несчастливый билет')"
   ]
  }
 ],
 "metadata": {
  "kernelspec": {
   "display_name": "Python 3",
   "language": "python",
   "name": "python3"
  },
  "language_info": {
   "codemirror_mode": {
    "name": "ipython",
    "version": 3
   },
   "file_extension": ".py",
   "mimetype": "text/x-python",
   "name": "python",
   "nbconvert_exporter": "python",
   "pygments_lexer": "ipython3",
   "version": "3.12.1"
  }
 },
 "nbformat": 4,
 "nbformat_minor": 5
}
