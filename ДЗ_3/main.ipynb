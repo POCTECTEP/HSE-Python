{
 "cells": [
  {
   "cell_type": "markdown",
   "id": "a9924d77",
   "metadata": {},
   "source": [
    "Выполнил студент группы ПСАПР-25-2 Оберемок Артём"
   ]
  },
  {
   "cell_type": "markdown",
   "id": "2545da00",
   "metadata": {},
   "source": []
  },
  {
   "cell_type": "markdown",
   "id": "0677d480",
   "metadata": {},
   "source": [
    "Пример работы программы"
   ]
  },
  {
   "cell_type": "code",
   "execution_count": 12,
   "id": "a60491b8",
   "metadata": {},
   "outputs": [
    {
     "name": "stdout",
     "output_type": "stream",
     "text": [
      "price_less_20 = {'milk15': False, 'cheese': True, 'sausage': False}\n"
     ]
    }
   ],
   "source": [
    "items = {\n",
    "'milk15': {'name': 'молоко 1.5%', 'count': 34, 'price': 89.9},\n",
    "'cheese': {'name': 'сыр молочный 1 кг.', 'count': 12, 'price': 990.9},\n",
    "'sausage': {'name': 'колбаса 1 кг.', 'count': 122, 'price': 1990.9},\n",
    "}\n",
    "\n",
    "price_less_20 = {}\n",
    "for i in items:\n",
    "    price_less_20[i] = items[i]['count']<20\n",
    "\n",
    "print('price_less_20 =',price_less_20)"
   ]
  },
  {
   "cell_type": "markdown",
   "id": "32703194",
   "metadata": {},
   "source": []
  },
  {
   "cell_type": "markdown",
   "id": "2ddd015f",
   "metadata": {},
   "source": [
    "Код с пустым словарём"
   ]
  },
  {
   "cell_type": "code",
   "execution_count": null,
   "id": "40891684",
   "metadata": {},
   "outputs": [],
   "source": [
    "items = {}\n",
    "\n",
    "price_less_20 = {}\n",
    "for i in items:\n",
    "    price_less_20[i] = items[i]['count']<20\n",
    "\n",
    "print('price_less_20 =',price_less_20)"
   ]
  }
 ],
 "metadata": {
  "kernelspec": {
   "display_name": "Python 3",
   "language": "python",
   "name": "python3"
  },
  "language_info": {
   "codemirror_mode": {
    "name": "ipython",
    "version": 3
   },
   "file_extension": ".py",
   "mimetype": "text/x-python",
   "name": "python",
   "nbconvert_exporter": "python",
   "pygments_lexer": "ipython3",
   "version": "3.12.1"
  }
 },
 "nbformat": 4,
 "nbformat_minor": 5
}
